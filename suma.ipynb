{
  "nbformat": 4,
  "nbformat_minor": 0,
  "metadata": {
    "colab": {
      "provenance": [],
      "authorship_tag": "ABX9TyNG2SXv/80NrpAciZUpWZXs",
      "include_colab_link": true
    },
    "kernelspec": {
      "name": "python3",
      "display_name": "Python 3"
    },
    "language_info": {
      "name": "python"
    }
  },
  "cells": [
    {
      "cell_type": "markdown",
      "metadata": {
        "id": "view-in-github",
        "colab_type": "text"
      },
      "source": [
        "<a href=\"https://colab.research.google.com/github/MaxSP041/POO/blob/main/suma.ipynb\" target=\"_parent\"><img src=\"https://colab.research.google.com/assets/colab-badge.svg\" alt=\"Open In Colab\"/></a>"
      ]
    },
    {
      "cell_type": "markdown",
      "source": [
        "Programa suma con entradas hecho por Stringhini Ponce Maximiliano el 13/02/25"
      ],
      "metadata": {
        "id": "7ICVmCzq_PEl"
      }
    },
    {
      "cell_type": "code",
      "execution_count": 2,
      "metadata": {
        "colab": {
          "base_uri": "https://localhost:8080/"
        },
        "id": "6U63u3Wr8jOQ",
        "outputId": "aff9729d-cac4-4687-a7c5-81d874885c44"
      },
      "outputs": [
        {
          "output_type": "stream",
          "name": "stdout",
          "text": [
            "Dame el primer valor: 5\n",
            "Dame el segundo valor: 5\n",
            "La suma de los valores es:  10\n"
          ]
        }
      ],
      "source": [
        "class operaciones():\n",
        "  def __init__(self,a,b):\n",
        "    self.a=a\n",
        "    self.b=b\n",
        "  def suma(self,v1,v2):\n",
        "    self.res=self.a+self.b\n",
        "    return (self.res)\n",
        "v1=int(input(\"Dame el primer valor: \"))\n",
        "v2=int(input(\"Dame el segundo valor: \"))\n",
        "obj=operaciones(v1,v2)\n",
        "r=obj.suma(v1,v2)\n",
        "print(\"La suma de los valores es: \",r)"
      ]
    }
  ]
}