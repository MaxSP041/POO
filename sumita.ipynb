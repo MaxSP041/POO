{
  "nbformat": 4,
  "nbformat_minor": 0,
  "metadata": {
    "colab": {
      "provenance": [],
      "authorship_tag": "ABX9TyNNi3O5NQO3F7xawGUxwyCN",
      "include_colab_link": true
    },
    "kernelspec": {
      "name": "python3",
      "display_name": "Python 3"
    },
    "language_info": {
      "name": "python"
    }
  },
  "cells": [
    {
      "cell_type": "markdown",
      "metadata": {
        "id": "view-in-github",
        "colab_type": "text"
      },
      "source": [
        "<a href=\"https://colab.research.google.com/github/MaxSP041/POO/blob/main/sumita.ipynb\" target=\"_parent\"><img src=\"https://colab.research.google.com/assets/colab-badge.svg\" alt=\"Open In Colab\"/></a>"
      ]
    },
    {
      "cell_type": "markdown",
      "source": [
        "Programa Suma hecho por Stringhini Ponce Maximiliano el 06/02/25"
      ],
      "metadata": {
        "id": "G2bGm7oa-4IS"
      }
    },
    {
      "cell_type": "code",
      "execution_count": 1,
      "metadata": {
        "colab": {
          "base_uri": "https://localhost:8080/"
        },
        "id": "OSOqG_Qx-1CK",
        "outputId": "8a8fb18d-2a08-4cd7-849a-19b0ded57af6"
      },
      "outputs": [
        {
          "output_type": "stream",
          "name": "stdout",
          "text": [
            "Resultado =  17\n"
          ]
        }
      ],
      "source": [
        "class Suma:\n",
        "  def __init__(self,valor1,valor2):\n",
        "    self.valor1=valor1\n",
        "    self.valor2=valor2\n",
        "  def operacion(self):\n",
        "    res=self.valor1+self.valor2\n",
        "    print(\"Resultado = \",res)\n",
        "obj=Suma(8,9)\n",
        "obj.operacion()"
      ]
    },
    {
      "cell_type": "markdown",
      "source": [
        "Variante 2"
      ],
      "metadata": {
        "id": "ZiU-S_VLDLNm"
      }
    },
    {
      "cell_type": "code",
      "source": [
        "class Operaciones:\n",
        "  def __init__(self):\n",
        "    self.valor1=0\n",
        "    self.valor2=0\n",
        "    self.res=0\n",
        "    self.msj=\"\"\n",
        "  def suma(self):\n",
        "    self.msj=\"La suma de \",self.valor1,\"+\",self.valor2,\" es=\"\n",
        "    self.res=self.valor1+self.valor2\n",
        "  def multiplicacion(self):\n",
        "    self.msj=\"La multiplicacion de \",self.valor1,\"*\",self.valor2,\" es=\"\n",
        "    self.res=self.valor1*self.valor2\n",
        "  def divison(self):\n",
        "    self.msj=\"La divison de \",self.valor1,\"/\",self.valor2,\" es=\"\n",
        "    self.res=self.valor1/self.valor2\n",
        "  def imprimir(self):\n",
        "    print(self.msj,self.res)"
      ],
      "metadata": {
        "id": "vT6iByi-DHsP"
      },
      "execution_count": 20,
      "outputs": []
    },
    {
      "cell_type": "code",
      "source": [
        "obj=Operaciones()\n",
        "obj.valor1=int(input(\"Ingrese el primer valor: \"))\n",
        "obj.valor2=int(input(\"Ingrese el segundo valor: \"))\n",
        "obj.suma()\n",
        "obj.imprimir()\n",
        "obj.multiplicacion()\n",
        "obj.imprimir()\n",
        "obj.divison()\n",
        "obj.imprimir()"
      ],
      "metadata": {
        "colab": {
          "base_uri": "https://localhost:8080/"
        },
        "id": "G-miccifEC59",
        "outputId": "dc00222e-f663-41cb-a754-1ae193c5d32e"
      },
      "execution_count": 21,
      "outputs": [
        {
          "output_type": "stream",
          "name": "stdout",
          "text": [
            "Ingrese el primer valor: 5\n",
            "Ingrese el segundo valor: 6\n",
            "('La suma de ', 5, '+', 6, ' es=') 11\n",
            "('La multiplicacion de ', 5, '*', 6, ' es=') 30\n",
            "('La divison de ', 5, '/', 6, ' es=') 0.8333333333333334\n"
          ]
        }
      ]
    }
  ]
}